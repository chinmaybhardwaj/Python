{
 "cells": [
  {
   "cell_type": "code",
   "execution_count": 35,
   "metadata": {},
   "outputs": [
    {
     "name": "stderr",
     "output_type": "stream",
     "text": [
      "Using TensorFlow backend.\n"
     ]
    }
   ],
   "source": [
    "import pandas as pd\n",
    "import numpy as np\n",
    "import matplotlib.pyplot as plt\n",
    "import seaborn as sns\n",
    "%matplotlib inline\n",
    "from sklearn import preprocessing\n",
    "from sklearn.preprocessing import StandardScaler\n",
    "from sklearn.model_selection import train_test_split\n",
    "from sklearn.metrics import accuracy_score, confusion_matrix\n",
    "from keras.models import Sequential\n",
    "from keras.layers import Dense"
   ]
  },
  {
   "cell_type": "code",
   "execution_count": 7,
   "metadata": {},
   "outputs": [
    {
     "data": {
      "text/html": [
       "<div>\n",
       "<style scoped>\n",
       "    .dataframe tbody tr th:only-of-type {\n",
       "        vertical-align: middle;\n",
       "    }\n",
       "\n",
       "    .dataframe tbody tr th {\n",
       "        vertical-align: top;\n",
       "    }\n",
       "\n",
       "    .dataframe thead th {\n",
       "        text-align: right;\n",
       "    }\n",
       "</style>\n",
       "<table border=\"1\" class=\"dataframe\">\n",
       "  <thead>\n",
       "    <tr style=\"text-align: right;\">\n",
       "      <th></th>\n",
       "      <th>noTimesPregnant</th>\n",
       "      <th>glucoseConcentration</th>\n",
       "      <th>bloodPressure</th>\n",
       "      <th>skinFoldThickness</th>\n",
       "      <th>serumInsulin</th>\n",
       "      <th>BMI</th>\n",
       "      <th>diabetesPedigree</th>\n",
       "      <th>age</th>\n",
       "      <th>class</th>\n",
       "    </tr>\n",
       "  </thead>\n",
       "  <tbody>\n",
       "    <tr>\n",
       "      <th>0</th>\n",
       "      <td>6</td>\n",
       "      <td>148</td>\n",
       "      <td>72</td>\n",
       "      <td>35</td>\n",
       "      <td>0</td>\n",
       "      <td>33.6</td>\n",
       "      <td>0.627</td>\n",
       "      <td>50</td>\n",
       "      <td>1</td>\n",
       "    </tr>\n",
       "    <tr>\n",
       "      <th>1</th>\n",
       "      <td>1</td>\n",
       "      <td>85</td>\n",
       "      <td>66</td>\n",
       "      <td>29</td>\n",
       "      <td>0</td>\n",
       "      <td>26.6</td>\n",
       "      <td>0.351</td>\n",
       "      <td>31</td>\n",
       "      <td>0</td>\n",
       "    </tr>\n",
       "    <tr>\n",
       "      <th>2</th>\n",
       "      <td>8</td>\n",
       "      <td>183</td>\n",
       "      <td>64</td>\n",
       "      <td>0</td>\n",
       "      <td>0</td>\n",
       "      <td>23.3</td>\n",
       "      <td>0.672</td>\n",
       "      <td>32</td>\n",
       "      <td>1</td>\n",
       "    </tr>\n",
       "    <tr>\n",
       "      <th>3</th>\n",
       "      <td>1</td>\n",
       "      <td>89</td>\n",
       "      <td>66</td>\n",
       "      <td>23</td>\n",
       "      <td>94</td>\n",
       "      <td>28.1</td>\n",
       "      <td>0.167</td>\n",
       "      <td>21</td>\n",
       "      <td>0</td>\n",
       "    </tr>\n",
       "    <tr>\n",
       "      <th>4</th>\n",
       "      <td>0</td>\n",
       "      <td>137</td>\n",
       "      <td>40</td>\n",
       "      <td>35</td>\n",
       "      <td>168</td>\n",
       "      <td>43.1</td>\n",
       "      <td>2.288</td>\n",
       "      <td>33</td>\n",
       "      <td>1</td>\n",
       "    </tr>\n",
       "  </tbody>\n",
       "</table>\n",
       "</div>"
      ],
      "text/plain": [
       "   noTimesPregnant  glucoseConcentration  bloodPressure  skinFoldThickness  \\\n",
       "0                6                   148             72                 35   \n",
       "1                1                    85             66                 29   \n",
       "2                8                   183             64                  0   \n",
       "3                1                    89             66                 23   \n",
       "4                0                   137             40                 35   \n",
       "\n",
       "   serumInsulin   BMI  diabetesPedigree  age  class  \n",
       "0             0  33.6             0.627   50      1  \n",
       "1             0  26.6             0.351   31      0  \n",
       "2             0  23.3             0.672   32      1  \n",
       "3            94  28.1             0.167   21      0  \n",
       "4           168  43.1             2.288   33      1  "
      ]
     },
     "execution_count": 7,
     "metadata": {},
     "output_type": "execute_result"
    }
   ],
   "source": [
    "colnames=['noTimesPregnant', 'glucoseConcentration', 'bloodPressure', 'skinFoldThickness', 'serumInsulin', \n",
    "         'BMI', 'diabetesPedigree', 'age', 'class'] \n",
    "\n",
    "df = pd.read_csv('dataset.csv', names=colnames, header=None)\n",
    "df.head()"
   ]
  },
  {
   "cell_type": "code",
   "execution_count": 8,
   "metadata": {},
   "outputs": [
    {
     "data": {
      "text/plain": [
       "noTimesPregnant         0\n",
       "glucoseConcentration    0\n",
       "bloodPressure           0\n",
       "skinFoldThickness       0\n",
       "serumInsulin            0\n",
       "BMI                     0\n",
       "diabetesPedigree        0\n",
       "age                     0\n",
       "class                   0\n",
       "dtype: int64"
      ]
     },
     "execution_count": 8,
     "metadata": {},
     "output_type": "execute_result"
    }
   ],
   "source": [
    "# Check for Null Data\n",
    "df.isnull().sum()"
   ]
  },
  {
   "cell_type": "code",
   "execution_count": 43,
   "metadata": {},
   "outputs": [
    {
     "ename": "KeyError",
     "evalue": "'glucoseConcentration'",
     "output_type": "error",
     "traceback": [
      "\u001b[0;31m---------------------------------------------------------------------------\u001b[0m",
      "\u001b[0;31mTypeError\u001b[0m                                 Traceback (most recent call last)",
      "\u001b[0;32mpandas/_libs/index.pyx\u001b[0m in \u001b[0;36mpandas._libs.index.IndexEngine.get_loc\u001b[0;34m()\u001b[0m\n",
      "\u001b[0;32mpandas/_libs/hashtable_class_helper.pxi\u001b[0m in \u001b[0;36mpandas._libs.hashtable.Int64HashTable.get_item\u001b[0;34m()\u001b[0m\n",
      "\u001b[0;31mTypeError\u001b[0m: an integer is required",
      "\nDuring handling of the above exception, another exception occurred:\n",
      "\u001b[0;31mKeyError\u001b[0m                                  Traceback (most recent call last)",
      "\u001b[0;32m~/anaconda3/lib/python3.7/site-packages/pandas/core/indexes/base.py\u001b[0m in \u001b[0;36mget_loc\u001b[0;34m(self, key, method, tolerance)\u001b[0m\n\u001b[1;32m   3077\u001b[0m             \u001b[0;32mtry\u001b[0m\u001b[0;34m:\u001b[0m\u001b[0;34m\u001b[0m\u001b[0;34m\u001b[0m\u001b[0m\n\u001b[0;32m-> 3078\u001b[0;31m                 \u001b[0;32mreturn\u001b[0m \u001b[0mself\u001b[0m\u001b[0;34m.\u001b[0m\u001b[0m_engine\u001b[0m\u001b[0;34m.\u001b[0m\u001b[0mget_loc\u001b[0m\u001b[0;34m(\u001b[0m\u001b[0mkey\u001b[0m\u001b[0;34m)\u001b[0m\u001b[0;34m\u001b[0m\u001b[0;34m\u001b[0m\u001b[0m\n\u001b[0m\u001b[1;32m   3079\u001b[0m             \u001b[0;32mexcept\u001b[0m \u001b[0mKeyError\u001b[0m\u001b[0;34m:\u001b[0m\u001b[0;34m\u001b[0m\u001b[0;34m\u001b[0m\u001b[0m\n",
      "\u001b[0;32mpandas/_libs/index.pyx\u001b[0m in \u001b[0;36mpandas._libs.index.IndexEngine.get_loc\u001b[0;34m()\u001b[0m\n",
      "\u001b[0;32mpandas/_libs/index.pyx\u001b[0m in \u001b[0;36mpandas._libs.index.IndexEngine.get_loc\u001b[0;34m()\u001b[0m\n",
      "\u001b[0;31mKeyError\u001b[0m: 'glucoseConcentration'",
      "\nDuring handling of the above exception, another exception occurred:\n",
      "\u001b[0;31mKeyError\u001b[0m                                  Traceback (most recent call last)",
      "\u001b[0;32m<ipython-input-43-378fd0c74c34>\u001b[0m in \u001b[0;36m<module>\u001b[0;34m\u001b[0m\n\u001b[1;32m     10\u001b[0m     \u001b[0;32mfor\u001b[0m \u001b[0mfield\u001b[0m \u001b[0;32min\u001b[0m \u001b[0mfields\u001b[0m\u001b[0;34m:\u001b[0m\u001b[0;34m\u001b[0m\u001b[0;34m\u001b[0m\u001b[0m\n\u001b[1;32m     11\u001b[0m         \u001b[0mprint\u001b[0m\u001b[0;34m(\u001b[0m\u001b[0;34m'field %s: num 0-entries: %d'\u001b[0m \u001b[0;34m%\u001b[0m \u001b[0;34m(\u001b[0m\u001b[0mfield\u001b[0m\u001b[0;34m,\u001b[0m \u001b[0mlen\u001b[0m\u001b[0;34m(\u001b[0m\u001b[0mdata\u001b[0m\u001b[0;34m.\u001b[0m\u001b[0mloc\u001b[0m\u001b[0;34m[\u001b[0m \u001b[0mdata\u001b[0m\u001b[0;34m[\u001b[0m\u001b[0mfield\u001b[0m\u001b[0;34m]\u001b[0m \u001b[0;34m==\u001b[0m \u001b[0;36m0\u001b[0m\u001b[0;34m,\u001b[0m \u001b[0mfield\u001b[0m \u001b[0;34m]\u001b[0m\u001b[0;34m)\u001b[0m\u001b[0;34m)\u001b[0m\u001b[0;34m)\u001b[0m\u001b[0;34m\u001b[0m\u001b[0;34m\u001b[0m\u001b[0m\n\u001b[0;32m---> 12\u001b[0;31m \u001b[0mcheck_zero_entries\u001b[0m\u001b[0;34m(\u001b[0m\u001b[0mdf\u001b[0m\u001b[0;34m,\u001b[0m \u001b[0mzero_fields\u001b[0m\u001b[0;34m)\u001b[0m\u001b[0;34m\u001b[0m\u001b[0;34m\u001b[0m\u001b[0m\n\u001b[0m",
      "\u001b[0;32m<ipython-input-43-378fd0c74c34>\u001b[0m in \u001b[0;36mcheck_zero_entries\u001b[0;34m(data, fields)\u001b[0m\n\u001b[1;32m      9\u001b[0m     \u001b[0;34m\"\"\" List number of 0-entries in each of the given fields\"\"\"\u001b[0m\u001b[0;34m\u001b[0m\u001b[0;34m\u001b[0m\u001b[0m\n\u001b[1;32m     10\u001b[0m     \u001b[0;32mfor\u001b[0m \u001b[0mfield\u001b[0m \u001b[0;32min\u001b[0m \u001b[0mfields\u001b[0m\u001b[0;34m:\u001b[0m\u001b[0;34m\u001b[0m\u001b[0;34m\u001b[0m\u001b[0m\n\u001b[0;32m---> 11\u001b[0;31m         \u001b[0mprint\u001b[0m\u001b[0;34m(\u001b[0m\u001b[0;34m'field %s: num 0-entries: %d'\u001b[0m \u001b[0;34m%\u001b[0m \u001b[0;34m(\u001b[0m\u001b[0mfield\u001b[0m\u001b[0;34m,\u001b[0m \u001b[0mlen\u001b[0m\u001b[0;34m(\u001b[0m\u001b[0mdata\u001b[0m\u001b[0;34m.\u001b[0m\u001b[0mloc\u001b[0m\u001b[0;34m[\u001b[0m \u001b[0mdata\u001b[0m\u001b[0;34m[\u001b[0m\u001b[0mfield\u001b[0m\u001b[0;34m]\u001b[0m \u001b[0;34m==\u001b[0m \u001b[0;36m0\u001b[0m\u001b[0;34m,\u001b[0m \u001b[0mfield\u001b[0m \u001b[0;34m]\u001b[0m\u001b[0;34m)\u001b[0m\u001b[0;34m)\u001b[0m\u001b[0;34m)\u001b[0m\u001b[0;34m\u001b[0m\u001b[0;34m\u001b[0m\u001b[0m\n\u001b[0m\u001b[1;32m     12\u001b[0m \u001b[0mcheck_zero_entries\u001b[0m\u001b[0;34m(\u001b[0m\u001b[0mdf\u001b[0m\u001b[0;34m,\u001b[0m \u001b[0mzero_fields\u001b[0m\u001b[0;34m)\u001b[0m\u001b[0;34m\u001b[0m\u001b[0;34m\u001b[0m\u001b[0m\n",
      "\u001b[0;32m~/anaconda3/lib/python3.7/site-packages/pandas/core/frame.py\u001b[0m in \u001b[0;36m__getitem__\u001b[0;34m(self, key)\u001b[0m\n\u001b[1;32m   2686\u001b[0m             \u001b[0;32mreturn\u001b[0m \u001b[0mself\u001b[0m\u001b[0;34m.\u001b[0m\u001b[0m_getitem_multilevel\u001b[0m\u001b[0;34m(\u001b[0m\u001b[0mkey\u001b[0m\u001b[0;34m)\u001b[0m\u001b[0;34m\u001b[0m\u001b[0;34m\u001b[0m\u001b[0m\n\u001b[1;32m   2687\u001b[0m         \u001b[0;32melse\u001b[0m\u001b[0;34m:\u001b[0m\u001b[0;34m\u001b[0m\u001b[0;34m\u001b[0m\u001b[0m\n\u001b[0;32m-> 2688\u001b[0;31m             \u001b[0;32mreturn\u001b[0m \u001b[0mself\u001b[0m\u001b[0;34m.\u001b[0m\u001b[0m_getitem_column\u001b[0m\u001b[0;34m(\u001b[0m\u001b[0mkey\u001b[0m\u001b[0;34m)\u001b[0m\u001b[0;34m\u001b[0m\u001b[0;34m\u001b[0m\u001b[0m\n\u001b[0m\u001b[1;32m   2689\u001b[0m \u001b[0;34m\u001b[0m\u001b[0m\n\u001b[1;32m   2690\u001b[0m     \u001b[0;32mdef\u001b[0m \u001b[0m_getitem_column\u001b[0m\u001b[0;34m(\u001b[0m\u001b[0mself\u001b[0m\u001b[0;34m,\u001b[0m \u001b[0mkey\u001b[0m\u001b[0;34m)\u001b[0m\u001b[0;34m:\u001b[0m\u001b[0;34m\u001b[0m\u001b[0;34m\u001b[0m\u001b[0m\n",
      "\u001b[0;32m~/anaconda3/lib/python3.7/site-packages/pandas/core/frame.py\u001b[0m in \u001b[0;36m_getitem_column\u001b[0;34m(self, key)\u001b[0m\n\u001b[1;32m   2693\u001b[0m         \u001b[0;31m# get column\u001b[0m\u001b[0;34m\u001b[0m\u001b[0;34m\u001b[0m\u001b[0;34m\u001b[0m\u001b[0m\n\u001b[1;32m   2694\u001b[0m         \u001b[0;32mif\u001b[0m \u001b[0mself\u001b[0m\u001b[0;34m.\u001b[0m\u001b[0mcolumns\u001b[0m\u001b[0;34m.\u001b[0m\u001b[0mis_unique\u001b[0m\u001b[0;34m:\u001b[0m\u001b[0;34m\u001b[0m\u001b[0;34m\u001b[0m\u001b[0m\n\u001b[0;32m-> 2695\u001b[0;31m             \u001b[0;32mreturn\u001b[0m \u001b[0mself\u001b[0m\u001b[0;34m.\u001b[0m\u001b[0m_get_item_cache\u001b[0m\u001b[0;34m(\u001b[0m\u001b[0mkey\u001b[0m\u001b[0;34m)\u001b[0m\u001b[0;34m\u001b[0m\u001b[0;34m\u001b[0m\u001b[0m\n\u001b[0m\u001b[1;32m   2696\u001b[0m \u001b[0;34m\u001b[0m\u001b[0m\n\u001b[1;32m   2697\u001b[0m         \u001b[0;31m# duplicate columns & possible reduce dimensionality\u001b[0m\u001b[0;34m\u001b[0m\u001b[0;34m\u001b[0m\u001b[0;34m\u001b[0m\u001b[0m\n",
      "\u001b[0;32m~/anaconda3/lib/python3.7/site-packages/pandas/core/generic.py\u001b[0m in \u001b[0;36m_get_item_cache\u001b[0;34m(self, item)\u001b[0m\n\u001b[1;32m   2487\u001b[0m         \u001b[0mres\u001b[0m \u001b[0;34m=\u001b[0m \u001b[0mcache\u001b[0m\u001b[0;34m.\u001b[0m\u001b[0mget\u001b[0m\u001b[0;34m(\u001b[0m\u001b[0mitem\u001b[0m\u001b[0;34m)\u001b[0m\u001b[0;34m\u001b[0m\u001b[0;34m\u001b[0m\u001b[0m\n\u001b[1;32m   2488\u001b[0m         \u001b[0;32mif\u001b[0m \u001b[0mres\u001b[0m \u001b[0;32mis\u001b[0m \u001b[0;32mNone\u001b[0m\u001b[0;34m:\u001b[0m\u001b[0;34m\u001b[0m\u001b[0;34m\u001b[0m\u001b[0m\n\u001b[0;32m-> 2489\u001b[0;31m             \u001b[0mvalues\u001b[0m \u001b[0;34m=\u001b[0m \u001b[0mself\u001b[0m\u001b[0;34m.\u001b[0m\u001b[0m_data\u001b[0m\u001b[0;34m.\u001b[0m\u001b[0mget\u001b[0m\u001b[0;34m(\u001b[0m\u001b[0mitem\u001b[0m\u001b[0;34m)\u001b[0m\u001b[0;34m\u001b[0m\u001b[0;34m\u001b[0m\u001b[0m\n\u001b[0m\u001b[1;32m   2490\u001b[0m             \u001b[0mres\u001b[0m \u001b[0;34m=\u001b[0m \u001b[0mself\u001b[0m\u001b[0;34m.\u001b[0m\u001b[0m_box_item_values\u001b[0m\u001b[0;34m(\u001b[0m\u001b[0mitem\u001b[0m\u001b[0;34m,\u001b[0m \u001b[0mvalues\u001b[0m\u001b[0;34m)\u001b[0m\u001b[0;34m\u001b[0m\u001b[0;34m\u001b[0m\u001b[0m\n\u001b[1;32m   2491\u001b[0m             \u001b[0mcache\u001b[0m\u001b[0;34m[\u001b[0m\u001b[0mitem\u001b[0m\u001b[0;34m]\u001b[0m \u001b[0;34m=\u001b[0m \u001b[0mres\u001b[0m\u001b[0;34m\u001b[0m\u001b[0;34m\u001b[0m\u001b[0m\n",
      "\u001b[0;32m~/anaconda3/lib/python3.7/site-packages/pandas/core/internals.py\u001b[0m in \u001b[0;36mget\u001b[0;34m(self, item, fastpath)\u001b[0m\n\u001b[1;32m   4113\u001b[0m \u001b[0;34m\u001b[0m\u001b[0m\n\u001b[1;32m   4114\u001b[0m             \u001b[0;32mif\u001b[0m \u001b[0;32mnot\u001b[0m \u001b[0misna\u001b[0m\u001b[0;34m(\u001b[0m\u001b[0mitem\u001b[0m\u001b[0;34m)\u001b[0m\u001b[0;34m:\u001b[0m\u001b[0;34m\u001b[0m\u001b[0;34m\u001b[0m\u001b[0m\n\u001b[0;32m-> 4115\u001b[0;31m                 \u001b[0mloc\u001b[0m \u001b[0;34m=\u001b[0m \u001b[0mself\u001b[0m\u001b[0;34m.\u001b[0m\u001b[0mitems\u001b[0m\u001b[0;34m.\u001b[0m\u001b[0mget_loc\u001b[0m\u001b[0;34m(\u001b[0m\u001b[0mitem\u001b[0m\u001b[0;34m)\u001b[0m\u001b[0;34m\u001b[0m\u001b[0;34m\u001b[0m\u001b[0m\n\u001b[0m\u001b[1;32m   4116\u001b[0m             \u001b[0;32melse\u001b[0m\u001b[0;34m:\u001b[0m\u001b[0;34m\u001b[0m\u001b[0;34m\u001b[0m\u001b[0m\n\u001b[1;32m   4117\u001b[0m                 \u001b[0mindexer\u001b[0m \u001b[0;34m=\u001b[0m \u001b[0mnp\u001b[0m\u001b[0;34m.\u001b[0m\u001b[0marange\u001b[0m\u001b[0;34m(\u001b[0m\u001b[0mlen\u001b[0m\u001b[0;34m(\u001b[0m\u001b[0mself\u001b[0m\u001b[0;34m.\u001b[0m\u001b[0mitems\u001b[0m\u001b[0;34m)\u001b[0m\u001b[0;34m)\u001b[0m\u001b[0;34m[\u001b[0m\u001b[0misna\u001b[0m\u001b[0;34m(\u001b[0m\u001b[0mself\u001b[0m\u001b[0;34m.\u001b[0m\u001b[0mitems\u001b[0m\u001b[0;34m)\u001b[0m\u001b[0;34m]\u001b[0m\u001b[0;34m\u001b[0m\u001b[0;34m\u001b[0m\u001b[0m\n",
      "\u001b[0;32m~/anaconda3/lib/python3.7/site-packages/pandas/core/indexes/base.py\u001b[0m in \u001b[0;36mget_loc\u001b[0;34m(self, key, method, tolerance)\u001b[0m\n\u001b[1;32m   3078\u001b[0m                 \u001b[0;32mreturn\u001b[0m \u001b[0mself\u001b[0m\u001b[0;34m.\u001b[0m\u001b[0m_engine\u001b[0m\u001b[0;34m.\u001b[0m\u001b[0mget_loc\u001b[0m\u001b[0;34m(\u001b[0m\u001b[0mkey\u001b[0m\u001b[0;34m)\u001b[0m\u001b[0;34m\u001b[0m\u001b[0;34m\u001b[0m\u001b[0m\n\u001b[1;32m   3079\u001b[0m             \u001b[0;32mexcept\u001b[0m \u001b[0mKeyError\u001b[0m\u001b[0;34m:\u001b[0m\u001b[0;34m\u001b[0m\u001b[0;34m\u001b[0m\u001b[0m\n\u001b[0;32m-> 3080\u001b[0;31m                 \u001b[0;32mreturn\u001b[0m \u001b[0mself\u001b[0m\u001b[0;34m.\u001b[0m\u001b[0m_engine\u001b[0m\u001b[0;34m.\u001b[0m\u001b[0mget_loc\u001b[0m\u001b[0;34m(\u001b[0m\u001b[0mself\u001b[0m\u001b[0;34m.\u001b[0m\u001b[0m_maybe_cast_indexer\u001b[0m\u001b[0;34m(\u001b[0m\u001b[0mkey\u001b[0m\u001b[0;34m)\u001b[0m\u001b[0;34m)\u001b[0m\u001b[0;34m\u001b[0m\u001b[0;34m\u001b[0m\u001b[0m\n\u001b[0m\u001b[1;32m   3081\u001b[0m \u001b[0;34m\u001b[0m\u001b[0m\n\u001b[1;32m   3082\u001b[0m         \u001b[0mindexer\u001b[0m \u001b[0;34m=\u001b[0m \u001b[0mself\u001b[0m\u001b[0;34m.\u001b[0m\u001b[0mget_indexer\u001b[0m\u001b[0;34m(\u001b[0m\u001b[0;34m[\u001b[0m\u001b[0mkey\u001b[0m\u001b[0;34m]\u001b[0m\u001b[0;34m,\u001b[0m \u001b[0mmethod\u001b[0m\u001b[0;34m=\u001b[0m\u001b[0mmethod\u001b[0m\u001b[0;34m,\u001b[0m \u001b[0mtolerance\u001b[0m\u001b[0;34m=\u001b[0m\u001b[0mtolerance\u001b[0m\u001b[0;34m)\u001b[0m\u001b[0;34m\u001b[0m\u001b[0;34m\u001b[0m\u001b[0m\n",
      "\u001b[0;32mpandas/_libs/index.pyx\u001b[0m in \u001b[0;36mpandas._libs.index.IndexEngine.get_loc\u001b[0;34m()\u001b[0m\n",
      "\u001b[0;32mpandas/_libs/index.pyx\u001b[0m in \u001b[0;36mpandas._libs.index.IndexEngine.get_loc\u001b[0;34m()\u001b[0m\n",
      "\u001b[0;31mKeyError\u001b[0m: 'glucoseConcentration'"
     ]
    }
   ],
   "source": [
    "#\n",
    "# TODO: Handle zero entries in column\n",
    "#\n",
    "# inputVariables=['glucoseConcentration', 'bloodPressure', 'skinFoldThickness', 'serumInsulin', \n",
    "#          'BMI', 'diabetesPedigree', 'age']\n",
    "# for field in inputVariables:\n",
    "#         print('field %s: num 0-entries: %d' % (field, len(df.loc[ df[field] == 0, field ])))\n",
    "        \n",
    "# zero_fields = ['glucoseConcentration', 'bloodPressure', 'skinFoldThickness', 'serumInsulin', 'BMI']\n",
    "\n",
    "# def check_zero_entries(data, fields):\n",
    "#     \"\"\" List number of 0-entries in each of the given fields\"\"\"\n",
    "#     for field in fields:\n",
    "#         print('field %s: num 0-entries: %d' % (field, len(data.loc[ data[field] == 0, field ])))\n",
    "# check_zero_entries(df, zero_fields)"
   ]
  },
  {
   "cell_type": "code",
   "execution_count": 9,
   "metadata": {},
   "outputs": [],
   "source": [
    "# X = all columns except the class column\n",
    "X = df.drop(['class'], axis=1)\n",
    "# Y =  dependent variable column\n",
    "Y = df['class']"
   ]
  },
  {
   "cell_type": "code",
   "execution_count": 13,
   "metadata": {},
   "outputs": [
    {
     "data": {
      "text/plain": [
       "<matplotlib.axes._subplots.AxesSubplot at 0x1a1ab2f240>"
      ]
     },
     "execution_count": 13,
     "metadata": {},
     "output_type": "execute_result"
    },
    {
     "data": {
      "image/png": "[encoded data removed]",
      "text/plain": [
       "<Figure size 432x288 with 1 Axes>"
      ]
     },
     "metadata": {
      "needs_background": "light"
     },
     "output_type": "display_data"
    }
   ],
   "source": [
    "# dependent variable\n",
    "sns.countplot(Y,label=\"Count\")"
   ]
  },
  {
   "cell_type": "code",
   "execution_count": 14,
   "metadata": {},
   "outputs": [
    {
     "data": {
      "image/png": "[encoded data removed]",
      "text/plain": [
       "<Figure size 432x288 with 2 Axes>"
      ]
     },
     "metadata": {
      "needs_background": "light"
     },
     "output_type": "display_data"
    }
   ],
   "source": [
    "# Correlation matrix between numerical values\n",
    "g = sns.heatmap(X.corr(),annot=True, fmt = \".2f\", cmap = \"coolwarm\")"
   ]
  },
  {
   "cell_type": "code",
   "execution_count": 23,
   "metadata": {},
   "outputs": [
    {
     "name": "stderr",
     "output_type": "stream",
     "text": [
      "/Users/chinmay/anaconda3/lib/python3.7/site-packages/seaborn/categorical.py:3666: UserWarning: The `factorplot` function has been renamed to `catplot`. The original name will be removed in a future release. Please update your code. Note that the default `kind` in `factorplot` (`'point'`) has changed `'strip'` in `catplot`.\n",
      "  warnings.warn(msg)\n",
      "/Users/chinmay/anaconda3/lib/python3.7/site-packages/seaborn/categorical.py:3672: UserWarning: The `size` paramter has been renamed to `height`; please update your code.\n",
      "  warnings.warn(msg, UserWarning)\n"
     ]
    },
    {
     "data": {
      "image/png": "[encoded data removed]",
      "text/plain": [
       "<Figure size 432x432 with 1 Axes>"
      ]
     },
     "metadata": {
      "needs_background": "light"
     },
     "output_type": "display_data"
    }
   ],
   "source": [
    "# Explore Age vs BMI\n",
    "g = sns.factorplot(x=\"age\",y=\"BMI\",data=df,kind=\"bar\",size = 6,palette = \"muted\")\n",
    "g.despine(left=True)\n",
    "g = g.set_xlabels(\"Age\")\n",
    "g = g.set_ylabels(\"BMI\")"
   ]
  },
  {
   "cell_type": "code",
   "execution_count": 19,
   "metadata": {},
   "outputs": [
    {
     "data": {
      "image/png": "[encoded data removed]",
      "text/plain": [
       "<Figure size 432x216 with 2 Axes>"
      ]
     },
     "metadata": {
      "needs_background": "light"
     },
     "output_type": "display_data"
    }
   ],
   "source": [
    "# Explore Age vs dependent variable\n",
    "g = sns.FacetGrid(df, col='class')\n",
    "g = g.map(sns.distplot, \"age\")"
   ]
  },
  {
   "cell_type": "code",
   "execution_count": 25,
   "metadata": {},
   "outputs": [
    {
     "name": "stderr",
     "output_type": "stream",
     "text": [
      "/Users/chinmay/anaconda3/lib/python3.7/site-packages/sklearn/preprocessing/data.py:323: DataConversionWarning: Data with input dtype int64, float64 were all converted to float64 by MinMaxScaler.\n",
      "  return self.partial_fit(X, y)\n"
     ]
    }
   ],
   "source": [
    "# Feature scaling\n",
    "# The MinMaxScaler transforms features by scaling each feature to a given range.\n",
    "min_max_scaler = preprocessing.MinMaxScaler()\n",
    "x_scaled = min_max_scaler.fit_transform(X)\n",
    "df = pd.DataFrame(x_scaled)"
   ]
  },
  {
   "cell_type": "code",
   "execution_count": 26,
   "metadata": {},
   "outputs": [
    {
     "data": {
      "text/html": [
       "<div>\n",
       "<style scoped>\n",
       "    .dataframe tbody tr th:only-of-type {\n",
       "        vertical-align: middle;\n",
       "    }\n",
       "\n",
       "    .dataframe tbody tr th {\n",
       "        vertical-align: top;\n",
       "    }\n",
       "\n",
       "    .dataframe thead th {\n",
       "        text-align: right;\n",
       "    }\n",
       "</style>\n",
       "<table border=\"1\" class=\"dataframe\">\n",
       "  <thead>\n",
       "    <tr style=\"text-align: right;\">\n",
       "      <th></th>\n",
       "      <th>0</th>\n",
       "      <th>1</th>\n",
       "      <th>2</th>\n",
       "      <th>3</th>\n",
       "      <th>4</th>\n",
       "      <th>5</th>\n",
       "      <th>6</th>\n",
       "      <th>7</th>\n",
       "    </tr>\n",
       "  </thead>\n",
       "  <tbody>\n",
       "    <tr>\n",
       "      <th>0</th>\n",
       "      <td>0.352941</td>\n",
       "      <td>0.743719</td>\n",
       "      <td>0.590164</td>\n",
       "      <td>0.353535</td>\n",
       "      <td>0.000000</td>\n",
       "      <td>0.500745</td>\n",
       "      <td>0.234415</td>\n",
       "      <td>0.483333</td>\n",
       "    </tr>\n",
       "    <tr>\n",
       "      <th>1</th>\n",
       "      <td>0.058824</td>\n",
       "      <td>0.427136</td>\n",
       "      <td>0.540984</td>\n",
       "      <td>0.292929</td>\n",
       "      <td>0.000000</td>\n",
       "      <td>0.396423</td>\n",
       "      <td>0.116567</td>\n",
       "      <td>0.166667</td>\n",
       "    </tr>\n",
       "    <tr>\n",
       "      <th>2</th>\n",
       "      <td>0.470588</td>\n",
       "      <td>0.919598</td>\n",
       "      <td>0.524590</td>\n",
       "      <td>0.000000</td>\n",
       "      <td>0.000000</td>\n",
       "      <td>0.347243</td>\n",
       "      <td>0.253629</td>\n",
       "      <td>0.183333</td>\n",
       "    </tr>\n",
       "    <tr>\n",
       "      <th>3</th>\n",
       "      <td>0.058824</td>\n",
       "      <td>0.447236</td>\n",
       "      <td>0.540984</td>\n",
       "      <td>0.232323</td>\n",
       "      <td>0.111111</td>\n",
       "      <td>0.418778</td>\n",
       "      <td>0.038002</td>\n",
       "      <td>0.000000</td>\n",
       "    </tr>\n",
       "    <tr>\n",
       "      <th>4</th>\n",
       "      <td>0.000000</td>\n",
       "      <td>0.688442</td>\n",
       "      <td>0.327869</td>\n",
       "      <td>0.353535</td>\n",
       "      <td>0.198582</td>\n",
       "      <td>0.642325</td>\n",
       "      <td>0.943638</td>\n",
       "      <td>0.200000</td>\n",
       "    </tr>\n",
       "  </tbody>\n",
       "</table>\n",
       "</div>"
      ],
      "text/plain": [
       "          0         1         2         3         4         5         6  \\\n",
       "0  0.352941  0.743719  0.590164  0.353535  0.000000  0.500745  0.234415   \n",
       "1  0.058824  0.427136  0.540984  0.292929  0.000000  0.396423  0.116567   \n",
       "2  0.470588  0.919598  0.524590  0.000000  0.000000  0.347243  0.253629   \n",
       "3  0.058824  0.447236  0.540984  0.232323  0.111111  0.418778  0.038002   \n",
       "4  0.000000  0.688442  0.327869  0.353535  0.198582  0.642325  0.943638   \n",
       "\n",
       "          7  \n",
       "0  0.483333  \n",
       "1  0.166667  \n",
       "2  0.183333  \n",
       "3  0.000000  \n",
       "4  0.200000  "
      ]
     },
     "execution_count": 26,
     "metadata": {},
     "output_type": "execute_result"
    }
   ],
   "source": [
    "df.head()"
   ]
  },
  {
   "cell_type": "code",
   "execution_count": 34,
   "metadata": {},
   "outputs": [],
   "source": [
    "# split data into train and test data\n",
    "X_train, X_test, Y_train, Y_test = train_test_split(X,Y,\n",
    "    test_size=0.2,random_state=1)"
   ]
  },
  {
   "cell_type": "code",
   "execution_count": 44,
   "metadata": {},
   "outputs": [
    {
     "name": "stdout",
     "output_type": "stream",
     "text": [
      "WARNING:tensorflow:From /Users/chinmay/anaconda3/lib/python3.7/site-packages/tensorflow/python/framework/op_def_library.py:263: colocate_with (from tensorflow.python.framework.ops) is deprecated and will be removed in a future version.\n",
      "Instructions for updating:\n",
      "Colocations handled automatically by placer.\n"
     ]
    }
   ],
   "source": [
    "# define the keras model\n",
    "model = Sequential()\n",
    "model.add(Dense(12, input_dim=8, activation='relu'))\n",
    "model.add(Dense(8, activation='relu'))\n",
    "model.add(Dense(1, activation='sigmoid'))"
   ]
  },
  {
   "cell_type": "code",
   "execution_count": 45,
   "metadata": {},
   "outputs": [],
   "source": [
    "# compile the keras model\n",
    "model.compile(loss='binary_crossentropy', optimizer='adam', metrics=['accuracy'])"
   ]
  },
  {
   "cell_type": "code",
   "execution_count": 54,
   "metadata": {},
   "outputs": [
    {
     "name": "stdout",
     "output_type": "stream",
     "text": [
      "Epoch 1/150\n",
      "614/614 [==============================] - 0s 257us/step - loss: 0.4850 - acc: 0.7638\n",
      "Epoch 2/150\n",
      "614/614 [==============================] - 0s 184us/step - loss: 0.4741 - acc: 0.7752\n",
      "Epoch 3/150\n",
      "614/614 [==============================] - 0s 182us/step - loss: 0.4709 - acc: 0.7785\n",
      "Epoch 4/150\n",
      "614/614 [==============================] - 0s 174us/step - loss: 0.4708 - acc: 0.7769\n",
      "Epoch 5/150\n",
      "614/614 [==============================] - 0s 189us/step - loss: 0.4690 - acc: 0.7801\n",
      "Epoch 6/150\n",
      "614/614 [==============================] - 0s 158us/step - loss: 0.4751 - acc: 0.7720\n",
      "Epoch 7/150\n",
      "614/614 [==============================] - 0s 194us/step - loss: 0.4718 - acc: 0.7687\n",
      "Epoch 8/150\n",
      "614/614 [==============================] - 0s 167us/step - loss: 0.4733 - acc: 0.7687\n",
      "Epoch 9/150\n",
      "614/614 [==============================] - 0s 158us/step - loss: 0.4697 - acc: 0.7785\n",
      "Epoch 10/150\n",
      "614/614 [==============================] - 0s 184us/step - loss: 0.4676 - acc: 0.7720\n",
      "Epoch 11/150\n",
      "614/614 [==============================] - 0s 186us/step - loss: 0.4656 - acc: 0.7834\n",
      "Epoch 12/150\n",
      "614/614 [==============================] - 0s 165us/step - loss: 0.4720 - acc: 0.7704\n",
      "Epoch 13/150\n",
      "614/614 [==============================] - 0s 179us/step - loss: 0.4698 - acc: 0.7769\n",
      "Epoch 14/150\n",
      "614/614 [==============================] - 0s 164us/step - loss: 0.4747 - acc: 0.7606\n",
      "Epoch 15/150\n",
      "614/614 [==============================] - 0s 163us/step - loss: 0.4639 - acc: 0.7801\n",
      "Epoch 16/150\n",
      "614/614 [==============================] - 0s 185us/step - loss: 0.4774 - acc: 0.7655\n",
      "Epoch 17/150\n",
      "614/614 [==============================] - 0s 203us/step - loss: 0.4687 - acc: 0.7736\n",
      "Epoch 18/150\n",
      "614/614 [==============================] - 0s 204us/step - loss: 0.4755 - acc: 0.7720\n",
      "Epoch 19/150\n",
      "614/614 [==============================] - 0s 206us/step - loss: 0.4684 - acc: 0.7736\n",
      "Epoch 20/150\n",
      "614/614 [==============================] - 0s 181us/step - loss: 0.4741 - acc: 0.7671\n",
      "Epoch 21/150\n",
      "614/614 [==============================] - 0s 175us/step - loss: 0.4772 - acc: 0.7687\n",
      "Epoch 22/150\n",
      "614/614 [==============================] - 0s 169us/step - loss: 0.4739 - acc: 0.7720\n",
      "Epoch 23/150\n",
      "614/614 [==============================] - 0s 165us/step - loss: 0.4734 - acc: 0.7720\n",
      "Epoch 24/150\n",
      "614/614 [==============================] - 0s 171us/step - loss: 0.4715 - acc: 0.7850\n",
      "Epoch 25/150\n",
      "614/614 [==============================] - 0s 209us/step - loss: 0.4677 - acc: 0.7769\n",
      "Epoch 26/150\n",
      "614/614 [==============================] - 0s 208us/step - loss: 0.4690 - acc: 0.7736\n",
      "Epoch 27/150\n",
      "614/614 [==============================] - 0s 190us/step - loss: 0.4684 - acc: 0.7736\n",
      "Epoch 28/150\n",
      "614/614 [==============================] - 0s 183us/step - loss: 0.4674 - acc: 0.7801\n",
      "Epoch 29/150\n",
      "614/614 [==============================] - 0s 182us/step - loss: 0.4634 - acc: 0.7801\n",
      "Epoch 30/150\n",
      "614/614 [==============================] - 0s 228us/step - loss: 0.4623 - acc: 0.7818\n",
      "Epoch 31/150\n",
      "614/614 [==============================] - 0s 217us/step - loss: 0.4662 - acc: 0.7899\n",
      "Epoch 32/150\n",
      "614/614 [==============================] - 0s 232us/step - loss: 0.4631 - acc: 0.7801\n",
      "Epoch 33/150\n",
      "614/614 [==============================] - 0s 211us/step - loss: 0.4651 - acc: 0.7769\n",
      "Epoch 34/150\n",
      "614/614 [==============================] - 0s 206us/step - loss: 0.4771 - acc: 0.7948\n",
      "Epoch 35/150\n",
      "614/614 [==============================] - 0s 603us/step - loss: 0.4713 - acc: 0.7752\n",
      "Epoch 36/150\n",
      "614/614 [==============================] - 0s 276us/step - loss: 0.4682 - acc: 0.7720\n",
      "Epoch 37/150\n",
      "614/614 [==============================] - 0s 208us/step - loss: 0.4629 - acc: 0.7818\n",
      "Epoch 38/150\n",
      "614/614 [==============================] - 0s 162us/step - loss: 0.4779 - acc: 0.7687\n",
      "Epoch 39/150\n",
      "614/614 [==============================] - 0s 159us/step - loss: 0.4611 - acc: 0.7687\n",
      "Epoch 40/150\n",
      "614/614 [==============================] - 0s 164us/step - loss: 0.4649 - acc: 0.7818\n",
      "Epoch 41/150\n",
      "614/614 [==============================] - 0s 204us/step - loss: 0.4688 - acc: 0.7752\n",
      "Epoch 42/150\n",
      "614/614 [==============================] - 0s 202us/step - loss: 0.4690 - acc: 0.7834\n",
      "Epoch 43/150\n",
      "614/614 [==============================] - 0s 737us/step - loss: 0.4653 - acc: 0.7834\n",
      "Epoch 44/150\n",
      "614/614 [==============================] - 0s 693us/step - loss: 0.4642 - acc: 0.7866\n",
      "Epoch 45/150\n",
      "614/614 [==============================] - 0s 441us/step - loss: 0.4588 - acc: 0.7752 0s - loss: 0.4649 - acc: 0.7\n",
      "Epoch 46/150\n",
      "614/614 [==============================] - 0s 302us/step - loss: 0.4623 - acc: 0.7834\n",
      "Epoch 47/150\n",
      "614/614 [==============================] - 0s 184us/step - loss: 0.4621 - acc: 0.7850\n",
      "Epoch 48/150\n",
      "614/614 [==============================] - 0s 166us/step - loss: 0.4565 - acc: 0.7915\n",
      "Epoch 49/150\n",
      "614/614 [==============================] - 0s 161us/step - loss: 0.4561 - acc: 0.7850\n",
      "Epoch 50/150\n",
      "614/614 [==============================] - 0s 231us/step - loss: 0.4626 - acc: 0.7818\n",
      "Epoch 51/150\n",
      "614/614 [==============================] - 0s 168us/step - loss: 0.4675 - acc: 0.7883\n",
      "Epoch 52/150\n",
      "614/614 [==============================] - 0s 187us/step - loss: 0.4609 - acc: 0.7687\n",
      "Epoch 53/150\n",
      "614/614 [==============================] - 0s 214us/step - loss: 0.4583 - acc: 0.7752\n",
      "Epoch 54/150\n",
      "614/614 [==============================] - 0s 173us/step - loss: 0.4621 - acc: 0.7785\n",
      "Epoch 55/150\n",
      "614/614 [==============================] - 0s 203us/step - loss: 0.4679 - acc: 0.7883\n",
      "Epoch 56/150\n",
      "614/614 [==============================] - 0s 197us/step - loss: 0.4627 - acc: 0.7720\n",
      "Epoch 57/150\n",
      "614/614 [==============================] - 0s 177us/step - loss: 0.4598 - acc: 0.7932\n",
      "Epoch 58/150\n",
      "614/614 [==============================] - 0s 191us/step - loss: 0.4599 - acc: 0.7638\n",
      "Epoch 59/150\n",
      "614/614 [==============================] - 0s 159us/step - loss: 0.4538 - acc: 0.7834\n",
      "Epoch 60/150\n",
      "614/614 [==============================] - 0s 156us/step - loss: 0.4604 - acc: 0.7704\n",
      "Epoch 61/150\n",
      "614/614 [==============================] - 0s 197us/step - loss: 0.4566 - acc: 0.7801\n",
      "Epoch 62/150\n",
      "614/614 [==============================] - 0s 230us/step - loss: 0.4525 - acc: 0.7720\n",
      "Epoch 63/150\n",
      "614/614 [==============================] - 0s 214us/step - loss: 0.4603 - acc: 0.7736\n",
      "Epoch 64/150\n",
      "614/614 [==============================] - 0s 201us/step - loss: 0.4689 - acc: 0.7687\n",
      "Epoch 65/150\n",
      "614/614 [==============================] - 0s 195us/step - loss: 0.4563 - acc: 0.7818\n",
      "Epoch 66/150\n",
      "614/614 [==============================] - 0s 233us/step - loss: 0.4583 - acc: 0.7769\n",
      "Epoch 67/150\n",
      "614/614 [==============================] - 0s 210us/step - loss: 0.4572 - acc: 0.7932\n",
      "Epoch 68/150\n",
      "614/614 [==============================] - 0s 240us/step - loss: 0.4596 - acc: 0.7834\n",
      "Epoch 69/150\n",
      "614/614 [==============================] - 0s 224us/step - loss: 0.4612 - acc: 0.7915\n",
      "Epoch 70/150\n",
      "614/614 [==============================] - 0s 179us/step - loss: 0.4672 - acc: 0.7769\n",
      "Epoch 71/150\n",
      "614/614 [==============================] - 0s 232us/step - loss: 0.4549 - acc: 0.7687\n",
      "Epoch 72/150\n",
      "614/614 [==============================] - 0s 249us/step - loss: 0.4525 - acc: 0.7883\n",
      "Epoch 73/150\n",
      "614/614 [==============================] - 0s 156us/step - loss: 0.4549 - acc: 0.7752\n",
      "Epoch 74/150\n",
      "614/614 [==============================] - 0s 162us/step - loss: 0.4533 - acc: 0.7801\n",
      "Epoch 75/150\n",
      "614/614 [==============================] - 0s 195us/step - loss: 0.4643 - acc: 0.7818\n",
      "Epoch 76/150\n",
      "614/614 [==============================] - 0s 206us/step - loss: 0.4499 - acc: 0.7785\n",
      "Epoch 77/150\n",
      "614/614 [==============================] - 0s 223us/step - loss: 0.4615 - acc: 0.7801\n",
      "Epoch 78/150\n",
      "614/614 [==============================] - 0s 213us/step - loss: 0.4582 - acc: 0.7850\n",
      "Epoch 79/150\n",
      "614/614 [==============================] - 0s 200us/step - loss: 0.4633 - acc: 0.7801\n",
      "Epoch 80/150\n",
      "614/614 [==============================] - 0s 193us/step - loss: 0.4553 - acc: 0.7769\n",
      "Epoch 81/150\n",
      "614/614 [==============================] - 0s 211us/step - loss: 0.4582 - acc: 0.7850\n",
      "Epoch 82/150\n",
      "614/614 [==============================] - 0s 223us/step - loss: 0.4646 - acc: 0.7720\n",
      "Epoch 83/150\n"
     ]
    },
    {
     "name": "stdout",
     "output_type": "stream",
     "text": [
      "614/614 [==============================] - 0s 215us/step - loss: 0.4431 - acc: 0.7720\n",
      "Epoch 84/150\n",
      "614/614 [==============================] - 0s 204us/step - loss: 0.4526 - acc: 0.7899\n",
      "Epoch 85/150\n",
      "614/614 [==============================] - 0s 187us/step - loss: 0.4502 - acc: 0.7850\n",
      "Epoch 86/150\n",
      "614/614 [==============================] - 0s 213us/step - loss: 0.4544 - acc: 0.7899\n",
      "Epoch 87/150\n",
      "614/614 [==============================] - 0s 235us/step - loss: 0.4605 - acc: 0.7720\n",
      "Epoch 88/150\n",
      "614/614 [==============================] - 0s 247us/step - loss: 0.4564 - acc: 0.7736\n",
      "Epoch 89/150\n",
      "614/614 [==============================] - 0s 210us/step - loss: 0.4582 - acc: 0.7834\n",
      "Epoch 90/150\n",
      "614/614 [==============================] - 0s 202us/step - loss: 0.4668 - acc: 0.7834\n",
      "Epoch 91/150\n",
      "614/614 [==============================] - 0s 180us/step - loss: 0.4568 - acc: 0.7818\n",
      "Epoch 92/150\n",
      "614/614 [==============================] - 0s 168us/step - loss: 0.4482 - acc: 0.7801\n",
      "Epoch 93/150\n",
      "614/614 [==============================] - 0s 168us/step - loss: 0.4499 - acc: 0.7834\n",
      "Epoch 94/150\n",
      "614/614 [==============================] - 0s 155us/step - loss: 0.4547 - acc: 0.7704\n",
      "Epoch 95/150\n",
      "614/614 [==============================] - 0s 164us/step - loss: 0.4602 - acc: 0.7769\n",
      "Epoch 96/150\n",
      "614/614 [==============================] - 0s 160us/step - loss: 0.4643 - acc: 0.7736\n",
      "Epoch 97/150\n",
      "614/614 [==============================] - 0s 160us/step - loss: 0.4459 - acc: 0.7785\n",
      "Epoch 98/150\n",
      "614/614 [==============================] - 0s 161us/step - loss: 0.4492 - acc: 0.7932\n",
      "Epoch 99/150\n",
      "614/614 [==============================] - 0s 162us/step - loss: 0.4487 - acc: 0.7834\n",
      "Epoch 100/150\n",
      "614/614 [==============================] - 0s 156us/step - loss: 0.4471 - acc: 0.7801\n",
      "Epoch 101/150\n",
      "614/614 [==============================] - 0s 173us/step - loss: 0.4496 - acc: 0.7720\n",
      "Epoch 102/150\n",
      "614/614 [==============================] - 0s 169us/step - loss: 0.4447 - acc: 0.7752\n",
      "Epoch 103/150\n",
      "614/614 [==============================] - 0s 228us/step - loss: 0.4607 - acc: 0.7785\n",
      "Epoch 104/150\n",
      "614/614 [==============================] - 0s 216us/step - loss: 0.4468 - acc: 0.7866\n",
      "Epoch 105/150\n",
      "614/614 [==============================] - 0s 203us/step - loss: 0.4407 - acc: 0.8046\n",
      "Epoch 106/150\n",
      "614/614 [==============================] - 0s 185us/step - loss: 0.4542 - acc: 0.7850\n",
      "Epoch 107/150\n",
      "614/614 [==============================] - 0s 186us/step - loss: 0.4435 - acc: 0.7866\n",
      "Epoch 108/150\n",
      "614/614 [==============================] - 0s 182us/step - loss: 0.4457 - acc: 0.7866\n",
      "Epoch 109/150\n",
      "614/614 [==============================] - 0s 157us/step - loss: 0.4553 - acc: 0.7850\n",
      "Epoch 110/150\n",
      "614/614 [==============================] - 0s 158us/step - loss: 0.4546 - acc: 0.7834\n",
      "Epoch 111/150\n",
      "614/614 [==============================] - 0s 174us/step - loss: 0.4482 - acc: 0.7866\n",
      "Epoch 112/150\n",
      "614/614 [==============================] - 0s 167us/step - loss: 0.4566 - acc: 0.7785\n",
      "Epoch 113/150\n",
      "614/614 [==============================] - 0s 162us/step - loss: 0.4472 - acc: 0.7769\n",
      "Epoch 114/150\n",
      "614/614 [==============================] - 0s 158us/step - loss: 0.4465 - acc: 0.7834\n",
      "Epoch 115/150\n",
      "614/614 [==============================] - 0s 162us/step - loss: 0.4446 - acc: 0.7883\n",
      "Epoch 116/150\n",
      "614/614 [==============================] - 0s 166us/step - loss: 0.4487 - acc: 0.7769\n",
      "Epoch 117/150\n",
      "614/614 [==============================] - 0s 156us/step - loss: 0.4516 - acc: 0.7834\n",
      "Epoch 118/150\n",
      "614/614 [==============================] - 0s 160us/step - loss: 0.4416 - acc: 0.7932\n",
      "Epoch 119/150\n",
      "614/614 [==============================] - 0s 181us/step - loss: 0.4439 - acc: 0.7818\n",
      "Epoch 120/150\n",
      "614/614 [==============================] - 0s 162us/step - loss: 0.4406 - acc: 0.7883\n",
      "Epoch 121/150\n",
      "614/614 [==============================] - 0s 169us/step - loss: 0.4587 - acc: 0.7704\n",
      "Epoch 122/150\n",
      "614/614 [==============================] - 0s 193us/step - loss: 0.4447 - acc: 0.7899\n",
      "Epoch 123/150\n",
      "614/614 [==============================] - 0s 188us/step - loss: 0.4421 - acc: 0.7801\n",
      "Epoch 124/150\n",
      "614/614 [==============================] - 0s 194us/step - loss: 0.4491 - acc: 0.7801\n",
      "Epoch 125/150\n",
      "614/614 [==============================] - 0s 189us/step - loss: 0.4415 - acc: 0.7997\n",
      "Epoch 126/150\n",
      "614/614 [==============================] - 0s 177us/step - loss: 0.4420 - acc: 0.7752\n",
      "Epoch 127/150\n",
      "614/614 [==============================] - 0s 168us/step - loss: 0.4453 - acc: 0.7834\n",
      "Epoch 128/150\n",
      "614/614 [==============================] - 0s 172us/step - loss: 0.4427 - acc: 0.7866\n",
      "Epoch 129/150\n",
      "614/614 [==============================] - 0s 159us/step - loss: 0.4385 - acc: 0.7948\n",
      "Epoch 130/150\n",
      "614/614 [==============================] - 0s 161us/step - loss: 0.4498 - acc: 0.7818\n",
      "Epoch 131/150\n",
      "614/614 [==============================] - 0s 167us/step - loss: 0.4383 - acc: 0.7866\n",
      "Epoch 132/150\n",
      "614/614 [==============================] - 0s 166us/step - loss: 0.4541 - acc: 0.7850\n",
      "Epoch 133/150\n",
      "614/614 [==============================] - 0s 181us/step - loss: 0.4423 - acc: 0.7818\n",
      "Epoch 134/150\n",
      "614/614 [==============================] - 0s 165us/step - loss: 0.4378 - acc: 0.7785\n",
      "Epoch 135/150\n",
      "614/614 [==============================] - 0s 165us/step - loss: 0.4477 - acc: 0.7932\n",
      "Epoch 136/150\n",
      "614/614 [==============================] - 0s 177us/step - loss: 0.4471 - acc: 0.7818\n",
      "Epoch 137/150\n",
      "614/614 [==============================] - 0s 184us/step - loss: 0.4449 - acc: 0.7801\n",
      "Epoch 138/150\n",
      "614/614 [==============================] - 0s 179us/step - loss: 0.4456 - acc: 0.7866\n",
      "Epoch 139/150\n",
      "614/614 [==============================] - 0s 191us/step - loss: 0.4409 - acc: 0.8013\n",
      "Epoch 140/150\n",
      "614/614 [==============================] - 0s 190us/step - loss: 0.4427 - acc: 0.7932\n",
      "Epoch 141/150\n",
      "614/614 [==============================] - 0s 178us/step - loss: 0.4438 - acc: 0.7866\n",
      "Epoch 142/150\n",
      "614/614 [==============================] - 0s 188us/step - loss: 0.4431 - acc: 0.7883\n",
      "Epoch 143/150\n",
      "614/614 [==============================] - 0s 166us/step - loss: 0.4405 - acc: 0.7866\n",
      "Epoch 144/150\n",
      "614/614 [==============================] - 0s 167us/step - loss: 0.4440 - acc: 0.7899\n",
      "Epoch 145/150\n",
      "614/614 [==============================] - 0s 160us/step - loss: 0.4407 - acc: 0.7818\n",
      "Epoch 146/150\n",
      "614/614 [==============================] - 0s 156us/step - loss: 0.4426 - acc: 0.7883\n",
      "Epoch 147/150\n",
      "614/614 [==============================] - 0s 175us/step - loss: 0.4421 - acc: 0.7850\n",
      "Epoch 148/150\n",
      "614/614 [==============================] - 0s 169us/step - loss: 0.4405 - acc: 0.7752\n",
      "Epoch 149/150\n",
      "614/614 [==============================] - 0s 161us/step - loss: 0.4417 - acc: 0.7834\n",
      "Epoch 150/150\n",
      "614/614 [==============================] - 0s 165us/step - loss: 0.4428 - acc: 0.7834\n"
     ]
    },
    {
     "data": {
      "text/plain": [
       "<keras.callbacks.History at 0x1a2e0726d8>"
      ]
     },
     "execution_count": 54,
     "metadata": {},
     "output_type": "execute_result"
    }
   ],
   "source": [
    "# fit the keras model on the dataset\n",
    "model.fit(X_train, Y_train, epochs=150, batch_size=10)"
   ]
  },
  {
   "cell_type": "code",
   "execution_count": 55,
   "metadata": {},
   "outputs": [
    {
     "name": "stdout",
     "output_type": "stream",
     "text": [
      "154/154 [==============================] - 0s 81us/step\n",
      "Accuracy: 78.57\n"
     ]
    }
   ],
   "source": [
    "# evaluate the keras model\n",
    "_, accuracy = model.evaluate(X_test, Y_test)\n",
    "print('Accuracy: %.2f' % (accuracy*100))"
   ]
  },
  {
   "cell_type": "code",
   "execution_count": 56,
   "metadata": {},
   "outputs": [],
   "source": [
    "# make class predictions with the model\n",
    "Y_pred = model.predict_classes(X_test)"
   ]
  },
  {
   "cell_type": "code",
   "execution_count": 57,
   "metadata": {},
   "outputs": [
    {
     "data": {
      "text/plain": [
       "array([[94,  5],\n",
       "       [28, 27]])"
      ]
     },
     "execution_count": 57,
     "metadata": {},
     "output_type": "execute_result"
    }
   ],
   "source": [
    "# Plot confusion matrix for GaussianNB\n",
    "confusion_matrix(Y_test, Y_pred)"
   ]
  }
 ],
 "metadata": {
  "kernelspec": {
   "display_name": "Python 3",
   "language": "python",
   "name": "python3"
  },
  "language_info": {
   "codemirror_mode": {
    "name": "ipython",
    "version": 3
   },
   "file_extension": ".py",
   "mimetype": "text/x-python",
   "name": "python",
   "nbconvert_exporter": "python",
   "pygments_lexer": "ipython3",
   "version": "3.7.1"
  }
 },
 "nbformat": 4,
 "nbformat_minor": 2
}
